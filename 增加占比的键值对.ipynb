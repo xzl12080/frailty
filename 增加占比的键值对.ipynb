{
 "cells": [
  {
   "cell_type": "code",
   "execution_count": 1,
   "id": "bdc13f9b",
   "metadata": {
    "ExecuteTime": {
     "end_time": "2023-09-05T04:24:08.006183Z",
     "start_time": "2023-09-05T04:23:51.912951Z"
    }
   },
   "outputs": [],
   "source": [
    "import re\n",
    "import requests\n",
    "from sentence_transformers import SentenceTransformer\n",
    "from sklearn.cluster import AgglomerativeClustering\n",
    "import os\n",
    "import pandas as pd\n",
    "from sklearn.metrics.pairwise import cosine_similarity\n",
    "import numpy as np\n",
    "import json\n",
    "from collections import Counter"
   ]
  },
  {
   "cell_type": "code",
   "execution_count": 3,
   "id": "52f88195",
   "metadata": {
    "ExecuteTime": {
     "end_time": "2023-09-04T10:05:46.839607Z",
     "start_time": "2023-09-04T10:05:45.887475Z"
    }
   },
   "outputs": [],
   "source": [
    "import os\n",
    "\n",
    "output_folder = r'C:\\Users\\10634\\Desktop\\recluster\\全qu模式\\raw_recluster_all_2000'\n",
    "\n",
    "for root, file, names in os.walk(r'C:\\Users\\10634\\Desktop\\recluster\\全qu模式\\recluster_all_2000'):\n",
    "    for name in names:\n",
    "        path = root + '/' + name\n",
    "        df = pd.read_csv(path)\n",
    "        df = df.iloc[:, 1:]\n",
    "        df.columns = ['question', 'class']\n",
    "        c = dict(Counter(df['class']))\n",
    "        raw_dic = {}\n",
    "        for keys, class_num in c.items():\n",
    "            value = list(df[df['class'] == keys]['question'])\n",
    "            raw_dic[keys] = value\n",
    "\n",
    "        # 创建目录\n",
    "        os.makedirs(output_folder, exist_ok=True)\n",
    "\n",
    "        with open(os.path.join(output_folder, '{}.json'.format(name[:-4])), 'w', encoding='utf-8') as f:\n",
    "            f.write(json.dumps(raw_dic, ensure_ascii=False, indent=4, separators=(',', ':')))\n"
   ]
  },
  {
   "cell_type": "code",
   "execution_count": 4,
   "id": "f95836e3",
   "metadata": {
    "ExecuteTime": {
     "end_time": "2023-09-04T10:06:58.306287Z",
     "start_time": "2023-09-04T10:06:57.976735Z"
    }
   },
   "outputs": [],
   "source": [
    "for root,file,names in os.walk(r'C:\\Users\\10634\\Desktop\\recluster\\全qu模式\\raw_recluster_all_2000'):\n",
    "    for name in names:  \n",
    "        path = root + '/'+ name\n",
    "        with open(path,'r',encoding='utf-8') as f:\n",
    "            dic = json.load(f)\n",
    "        new_dic = {}\n",
    "        all_qu_list = list(dic.values())\n",
    "        all_qu_list = [item for qlist in all_qu_list for item in qlist]\n",
    "        qlen = len(all_qu_list)\n",
    "        for keys,values in dic.items():\n",
    "            per = len(values)/qlen*100\n",
    "            dic1 = {}\n",
    "            dic1['占比'] = \"%.2f%%\" % (per)\n",
    "            dic1['问题'] = values\n",
    "            new_dic[keys] = dic1\n",
    "        with open(r'C:\\Users\\10634\\Desktop\\recluster\\全qu模式\\raw_recluster_all_2000_1\\{}.json'.format(name[:-4]),'w',encoding='utf-8') as fp:\n",
    "            fp.write(json.dumps(new_dic,ensure_ascii=False,indent=4,separators=(',', ':')))"
   ]
  },
  {
   "cell_type": "code",
   "execution_count": 5,
   "id": "8c90865d",
   "metadata": {
    "ExecuteTime": {
     "end_time": "2023-09-05T06:13:19.176290Z",
     "start_time": "2023-09-05T06:13:18.959560Z"
    }
   },
   "outputs": [],
   "source": [
    "import os\n",
    "import json\n",
    "\n",
    "input_directory = r'C:\\Users\\10634\\Desktop\\recluster\\全qu模式\\new_recluster_all_2000'\n",
    "output_directory = r'C:\\Users\\10634\\Desktop\\recluster\\全qu模式\\per_new_recluster_all_2000'\n",
    "\n",
    "for root, _, names in os.walk(input_directory):\n",
    "    for name in names:\n",
    "        input_path = os.path.join(root, name)\n",
    "        \n",
    "        with open(input_path, 'r', encoding='utf-8') as f:\n",
    "            dic = json.load(f)\n",
    "        \n",
    "        new_dic = {}\n",
    "        all_qu_list = [item for qlist in dic.values() for item in qlist]\n",
    "        qlen = len(all_qu_list)\n",
    "        \n",
    "        for key, values in dic.items():\n",
    "            per = len(values) / qlen * 100\n",
    "            dic1 = {}\n",
    "            dic1['占比'] = \"%.2f%%\" % per\n",
    "            dic1['问题'] = values\n",
    "            new_dic[key] = dic1  # Use 'key' instead of 'keys' to create a new key in new_dic\n",
    "        \n",
    "        output_path = os.path.join(output_directory, f\"{name[:-5]}.json\")\n",
    "        with open(output_path, 'w', encoding='utf-8') as fp:\n",
    "            fp.write(json.dumps(new_dic, ensure_ascii=False, indent=4, separators=(',', ':')))\n"
   ]
  },
  {
   "cell_type": "code",
   "execution_count": null,
   "id": "e9b0b063",
   "metadata": {},
   "outputs": [],
   "source": []
  }
 ],
 "metadata": {
  "kernelspec": {
   "display_name": "Python 3 (ipykernel)",
   "language": "python",
   "name": "python3"
  },
  "language_info": {
   "codemirror_mode": {
    "name": "ipython",
    "version": 3
   },
   "file_extension": ".py",
   "mimetype": "text/x-python",
   "name": "python",
   "nbconvert_exporter": "python",
   "pygments_lexer": "ipython3",
   "version": "3.11.3"
  },
  "toc": {
   "base_numbering": 1,
   "nav_menu": {},
   "number_sections": true,
   "sideBar": true,
   "skip_h1_title": false,
   "title_cell": "Table of Contents",
   "title_sidebar": "Contents",
   "toc_cell": false,
   "toc_position": {},
   "toc_section_display": true,
   "toc_window_display": false
  },
  "varInspector": {
   "cols": {
    "lenName": 16,
    "lenType": 16,
    "lenVar": 40
   },
   "kernels_config": {
    "python": {
     "delete_cmd_postfix": "",
     "delete_cmd_prefix": "del ",
     "library": "var_list.py",
     "varRefreshCmd": "print(var_dic_list())"
    },
    "r": {
     "delete_cmd_postfix": ") ",
     "delete_cmd_prefix": "rm(",
     "library": "var_list.r",
     "varRefreshCmd": "cat(var_dic_list()) "
    }
   },
   "types_to_exclude": [
    "module",
    "function",
    "builtin_function_or_method",
    "instance",
    "_Feature"
   ],
   "window_display": false
  }
 },
 "nbformat": 4,
 "nbformat_minor": 5
}
